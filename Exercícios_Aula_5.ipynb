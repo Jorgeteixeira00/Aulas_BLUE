{
  "nbformat": 4,
  "nbformat_minor": 0,
  "metadata": {
    "colab": {
      "name": "Exercícios Aula 5",
      "provenance": [],
      "authorship_tag": "ABX9TyNUsPvEXRpxsomD8ExsMC0t",
      "include_colab_link": true
    },
    "kernelspec": {
      "name": "python3",
      "display_name": "Python 3"
    },
    "language_info": {
      "name": "python"
    }
  },
  "cells": [
    {
      "cell_type": "markdown",
      "metadata": {
        "id": "view-in-github",
        "colab_type": "text"
      },
      "source": [
        "<a href=\"https://colab.research.google.com/github/Jorgeteixeira00/Aulas_BLUE/blob/main/Exerc%C3%ADcios_Aula_5.ipynb\" target=\"_parent\"><img src=\"https://colab.research.google.com/assets/colab-badge.svg\" alt=\"Open In Colab\"/></a>"
      ]
    },
    {
      "cell_type": "markdown",
      "metadata": {
        "id": "PkaffmThvqCT"
      },
      "source": [
        "**Exercício 1: \"Faça um Programa que leia três números inteiros, em seguida mostre o maior e o menor deles.\"**\n"
      ]
    },
    {
      "cell_type": "code",
      "metadata": {
        "colab": {
          "base_uri": "https://localhost:8080/"
        },
        "id": "gas-lfnmvtpy",
        "outputId": "3efba9f4-30fd-41f2-e63c-d1aea2dff5f1"
      },
      "source": [
        "n1 = 3\n",
        "n2 = 5\n",
        "n3 = 7\n",
        "if n1 > n2 and n1 > n3:\n",
        "  print('{} é o maior'.fomat(n1))\n",
        "elif n2 > n2 and n1 > n3:\n",
        "  print('{} é o maior'.format(n2))\n",
        "elif n3 > n1 and n3 > n2:\n",
        "  print('{} é o maior'.format(n3))\n",
        "\n",
        "if n1 < n2 and n1 < n3:\n",
        "  print('{} é o menor'.format(n1))\n",
        "elif n2 < n1 and n2 < n3:\n",
        "  print('{} é o menor'.format(n2))\n",
        "elif n3 < n1 and n3 < n2:\n",
        "  print('{} é o menor'.format(n3))"
      ],
      "execution_count": null,
      "outputs": [
        {
          "output_type": "stream",
          "text": [
            "7 é o maior\n",
            "3 é o menor\n"
          ],
          "name": "stdout"
        }
      ]
    },
    {
      "cell_type": "markdown",
      "metadata": {
        "id": "rnTFm-eb3Q9S"
      },
      "source": [
        "**Exercício 2 - Faça um programa que peça dois números e imprima o maior deles.**\n"
      ]
    },
    {
      "cell_type": "code",
      "metadata": {
        "colab": {
          "base_uri": "https://localhost:8080/"
        },
        "id": "E0dwNRDv3cdv",
        "outputId": "089c1553-9415-47de-ed28-8a84e0d7e059"
      },
      "source": [
        "n1 = float(input('Digite o 1° número:'))\n",
        "n2 = float(input('Digite o 2° número:'))\n",
        "if n1 > n2:\n",
        "  print('{} é maior que {}'.format(n1,n2))\n",
        "elif n2 > n1:\n",
        "  print('{} é maior que {}'.format(n2,n1))"
      ],
      "execution_count": null,
      "outputs": [
        {
          "output_type": "stream",
          "text": [
            "Digite o 1° número:8\n",
            "Digite o 2° número:4\n",
            "8.0 é maior que 4.0\n"
          ],
          "name": "stdout"
        }
      ]
    },
    {
      "cell_type": "markdown",
      "metadata": {
        "id": "XHOrAk-F6w8U"
      },
      "source": [
        "**Exercício 3 - Faça um script que peça um valor e mostre na tela se o valor é positivo ou negativo.**\n"
      ]
    },
    {
      "cell_type": "code",
      "metadata": {
        "colab": {
          "base_uri": "https://localhost:8080/"
        },
        "id": "5dwly0Jv63Ss",
        "outputId": "cfc0076d-a111-4695-8966-91d00328a045"
      },
      "source": [
        "var = int(input('Digite um valor:'))\n",
        "if var >0:\n",
        "  print('Ele é positivo!')\n",
        "elif var <0:\n",
        "  print('Ele é negativo!')\n",
        "else:\n",
        "  print('NEUTRO')"
      ],
      "execution_count": null,
      "outputs": [
        {
          "output_type": "stream",
          "text": [
            "Digite um valor:-2\n",
            "Ele é negativo!\n"
          ],
          "name": "stdout"
        }
      ]
    },
    {
      "cell_type": "markdown",
      "metadata": {
        "id": "KiMTmZmJ7jMR"
      },
      "source": [
        "**Exercício 4 - Crie um programa que verifique se uma letra digitada é \"F\" ou \"M\". Conforme a letra escrever: F - Feminino, M - Masculino, Sexo Inválido.**"
      ]
    },
    {
      "cell_type": "code",
      "metadata": {
        "colab": {
          "base_uri": "https://localhost:8080/"
        },
        "id": "boUAzXrM8SBL",
        "outputId": "bd30a274-c92d-4198-ddc5-0761e95a9638"
      },
      "source": [
        "sexo = input('Digite seu sexo por favor: [M/F]').upper().strip()\n",
        "if sexo == 'M':\n",
        "  print('MASCULINO')\n",
        "elif sexo == 'F':\n",
        "  print('FEMININO')\n",
        "else:\n",
        "  print('OPÇÃO INVALIDA, TENTE NOVAMENTE!')"
      ],
      "execution_count": null,
      "outputs": [
        {
          "output_type": "stream",
          "text": [
            "Digite seu sexo por favor: [M/F]     m\n",
            "MASCULINO\n"
          ],
          "name": "stdout"
        }
      ]
    },
    {
      "cell_type": "markdown",
      "metadata": {
        "id": "JODbD6nS9ZDi"
      },
      "source": [
        "***Exercício 5 - Crie um programa em Python que peça a nota do aluno, que deve ser um float entre 0.00 e 10.0***"
      ]
    },
    {
      "cell_type": "markdown",
      "metadata": {
        "id": "lxeKNQra_PLQ"
      },
      "source": [
        "Se a nota for menor que 6.0, deve exibir a nota F.\n",
        "Se a nota for de 6.0 até 7.0, deve exibir a nota D.\n",
        "Se a nota for entre 7.0 e 8.0, deve exibir a nota C.\n",
        "Se a nota for entre 8.0 e 9.0, deve exibir a nota B.\n",
        "Por fim, se for entre 9.0 e 10.0, deve exibir um belo de um A.\n"
      ]
    },
    {
      "cell_type": "code",
      "metadata": {
        "colab": {
          "base_uri": "https://localhost:8080/"
        },
        "id": "ujO73U3a9dAh",
        "outputId": "ce7d3921-ff62-4dd5-8c69-62c3da7829d6"
      },
      "source": [
        "nota = float(input('Digite a nota do aluno:'))\n",
        "if nota < 6.0:\n",
        "  print('NOTA:F')\n",
        "elif nota >=6.0 and nota <7.0:\n",
        "  print('NOTA:D')\n",
        "elif nota >=7.0 and nota <8.0:\n",
        "  print('NOTA:C')\n",
        "elif nota >=8.0 and nota <9.0:\n",
        "  print('NOTA:B')\n",
        "elif nota >=9.0 and nota <10.0:\n",
        "  print('NOTA:A')"
      ],
      "execution_count": null,
      "outputs": [
        {
          "output_type": "stream",
          "text": [
            "Digite a nota do aluno:8.9\n",
            "NOTA:B\n"
          ],
          "name": "stdout"
        }
      ]
    },
    {
      "cell_type": "markdown",
      "metadata": {
        "id": "wFM1jUi-CCtd"
      },
      "source": [
        "**Exercício 6 - Faça um Programa que verifique se uma letra digitada é vogal ou consoante.**"
      ]
    },
    {
      "cell_type": "code",
      "metadata": {
        "colab": {
          "base_uri": "https://localhost:8080/"
        },
        "id": "uG5gt45cCD7F",
        "outputId": "315da3ba-7103-40ba-86e3-ee98d60c9a0f"
      },
      "source": [
        "letra = input('Digite uma letra (em minusculo) : ')\n",
        "\n",
        "if letra == 'a' or letra == 'e' or letra == 'i' or letra == 'o' or letra == 'u':\n",
        "    print ('A letra é uma vogal')\n",
        "else:\n",
        "    print ('A letra é uma consoante')"
      ],
      "execution_count": null,
      "outputs": [
        {
          "output_type": "stream",
          "text": [
            "Digite uma letra (em minusculo) : t\n",
            "A letra é uma consoante\n"
          ],
          "name": "stdout"
        }
      ]
    },
    {
      "cell_type": "markdown",
      "metadata": {
        "id": "fs01mFJ8DgIw"
      },
      "source": [
        "## **PROJETO 1**\n"
      ]
    },
    {
      "cell_type": "markdown",
      "metadata": {
        "id": "ioQPNt9qFKYa"
      },
      "source": [
        "\n",
        "\n",
        "1.   Escreva um programa que receba uma string digitada pelo usuário;\n",
        "2.   Caso a string seja \"medieval\", exiba no console \"espada\";\n",
        "3.   Caso contrário, se a string for \"futurista\", exiba no console \"sabre de luz\";\n",
        "4.   Caso contrário, exiba no console \"Tente novamente\"\n"
      ]
    },
    {
      "cell_type": "code",
      "metadata": {
        "colab": {
          "base_uri": "https://localhost:8080/"
        },
        "id": "2NrdM8NCFaV4",
        "outputId": "83c4b31b-0a47-47ba-8f5a-b0bdd2f1e235"
      },
      "source": [
        "print('='*37)\n",
        "print('ESCOLHA O CAMINHO QUE VOCÊ IRÁ SEGUIR')\n",
        "print('='*37)\n",
        "print('O CAMINHO MEDIEVAL?')\n",
        "print('OU')\n",
        "print('O CAMINHO FUTUTURISTA?')\n",
        "caminho = str(input('Digite o seu camiho:')).upper()\n",
        "if caminho == 'MEDIEVAL':\n",
        "  print('A espada lhe aguarda')\n",
        "elif caminho == 'FUTURISTA':\n",
        "  print('O sabre lhe espera')\n",
        "else:\n",
        "  print('Caminho invalido')"
      ],
      "execution_count": null,
      "outputs": [
        {
          "output_type": "stream",
          "text": [
            "=====================================\n",
            "ESCOLHA O CAMINHO QUE VOCÊ IRÁ SEGUIR\n",
            "=====================================\n",
            "O CAMINHO MEDIEVAL?\n",
            "OU\n",
            "O CAMINHO FUTUTURISTA?\n",
            "Digite o seu camiho:futurista\n",
            "O sabre lhe espera\n"
          ],
          "name": "stdout"
        }
      ]
    },
    {
      "cell_type": "markdown",
      "metadata": {
        "id": "fKuyyb5BGlor"
      },
      "source": [
        "# **Continuação do PROJETO 1**\n"
      ]
    },
    {
      "cell_type": "markdown",
      "metadata": {
        "id": "w6bbFh4SGqjJ"
      },
      "source": [
        "\n",
        "\n",
        "1.   Escreva um programa que receba um ataque de espada ou sabre digitada pelo usuário;\n",
        "2.   Caso o ataque seja \"espada\", exiba no console \"VOCÊ AINDA NÃO MATOU O CHEFÃO\";\n",
        "3.   Caso contrário, se o ataque for \"sabre\", exiba no console \"VOCÊ DERROTOU O CHEFÃO COM O SABRE DE LUZ\";\n",
        "4.   Caso contrário, exiba no console \"ATAQUE NOVAMENTE\"\n"
      ]
    },
    {
      "cell_type": "code",
      "metadata": {
        "colab": {
          "base_uri": "https://localhost:8080/"
        },
        "id": "IR95dssQG2Vg",
        "outputId": "a3eba147-f352-45f2-b12c-5441096f7d50"
      },
      "source": [
        "print('='*32)\n",
        "print('A DECISÃO QUE DECIDIRA O FUTURO!')\n",
        "print('='*32)\n",
        "print('A ESPADA?')\n",
        "print('OU')\n",
        "print('O SABRE?')\n",
        "print('='*32)\n",
        "arma = str(input('ESCOLHA:')).upper()\n",
        "if arma == 'ESPADA':\n",
        "  print('VOCÊ AINDA NÃO MATOU O CHEFÃO!')\n",
        "elif arma == 'SABRE':\n",
        "  print('VOCÊ DERROTOU O CHEFÃO COM O SABRE DE LUZ!')\n",
        "else:\n",
        "  print('ARMA INVALIDA!')"
      ],
      "execution_count": null,
      "outputs": [
        {
          "output_type": "stream",
          "text": [
            "================================\n",
            "A DECISÃO QUE DECIDIRA O FUTURO!\n",
            "================================\n",
            "A ESPADA?\n",
            "OU\n",
            "O SABRE?\n",
            "================================\n",
            "ESCOLHA:sabre\n",
            "VOCÊ DERROTOU O CHEFÃO COM O SABRE DE LUZ!\n"
          ],
          "name": "stdout"
        }
      ]
    },
    {
      "cell_type": "markdown",
      "metadata": {
        "id": "2X-5sbelKNWJ"
      },
      "source": [
        "# **DESAFIO - As empresas @.com resolveram dar um aumento de salário aos seus colaboradores e lhe contrataram para desenvolver o programa que calculará os reajustes.**\n"
      ]
    },
    {
      "cell_type": "markdown",
      "metadata": {
        "id": "vbbxQT53KVMw"
      },
      "source": [
        "Faça um programa que recebe o salário de um colaborador e o reajuste segundo o seguinte critério, baseado no salário atual:"
      ]
    },
    {
      "cell_type": "markdown",
      "metadata": {
        "id": "wtVLZHs9KXd_"
      },
      "source": [
        "\n",
        "\n",
        "1.   salários até R$ 280,00 (incluindo) : aumento de 20%\n",
        "\n",
        "2.   salários entre R$ 280,00 e R$ 700,00 : aumento de 15%\n",
        "3.   salários entre R$ 700,00 e R$ 1500,00 : aumento de 10%\n",
        "4.   salários de R$ 1500,00 em diante : aumento de 5%\n",
        "\n",
        "Após o aumento ser realizado, informe na tela:\n",
        "\n",
        "5.  o salário antes do reajuste;\n",
        "6.  o percentual de aumento aplicado;\n",
        "7.  o valor do aumento;\n",
        "8.  o novo salário, após o aumento.\n"
      ]
    },
    {
      "cell_type": "code",
      "metadata": {
        "colab": {
          "base_uri": "https://localhost:8080/"
        },
        "id": "UN7vKq-tK79f",
        "outputId": "fbb4ee01-1d3d-40de-bab0-df957de77030"
      },
      "source": [
        "salario = float(input('Digite o sálario R$:'))\n",
        "if salario <=280.00:\n",
        "  percentual = 20\n",
        "  aumento = salario * percentual / 100\n",
        "  novo_salario = salario + aumento\n",
        "\n",
        "elif salario >280.00 and salario <700.00:\n",
        "  percentual = 15\n",
        "  aumento = salario * percentual / 100\n",
        "  novo_salario = salario + aumento\n",
        "\n",
        "elif salario >=700.00 and salario <1500.00:\n",
        "  percentual = 10\n",
        "  aumento = salario * percentual / 100\n",
        "  novo_salario = salario + aumento\n",
        "\n",
        "else:\n",
        "  percentual = 5\n",
        "  aumento = salario * percentual / 100\n",
        "  novo_salario = salario + aumento\n",
        "print('''\n",
        "Sálario antes do reajuste R$:{:.2f} reais\n",
        "Percentual do aumento:{}%\n",
        "O valor do aumento R$:{:.2f} reais\n",
        "O novo salário, após aumento R$:{:.2f} reais\n",
        "'''.format(salario,percentual,aumento,novo_salario))"
      ],
      "execution_count": null,
      "outputs": [
        {
          "output_type": "stream",
          "text": [
            "Digite o sálario R$:280\n",
            "\n",
            "Sálario antes do reajuste R$:280.00 reais\n",
            "Percentual do aumento:20%\n",
            "O valor do aumento R$:56.00 reais\n",
            "O novo salário, após aumento R$:336.00 reais\n",
            "\n"
          ],
          "name": "stdout"
        }
      ]
    },
    {
      "cell_type": "markdown",
      "metadata": {
        "id": "hKygqfA3OPjO"
      },
      "source": [
        "## **DESAFIO**\n"
      ]
    },
    {
      "cell_type": "markdown",
      "metadata": {
        "id": "KPhtuVUXOTWE"
      },
      "source": [
        "Faça um Programa para um caixa eletrônico. O programa deverá perguntar ao usuário a valor do saque e depois informar quantas notas de cada valor serão fornecidas. As notas disponíveis serão as de 1, 5, 10, 50 e 100 reais. O valor mínimo é de 10 reais e o máximo de 600 reais. O programa não deve se preocupar com a quantidade de notas existentes na máquina.\n"
      ]
    },
    {
      "cell_type": "markdown",
      "metadata": {
        "id": "xNJtxaFeOVLL"
      },
      "source": [
        "\n",
        "\n",
        "1.   Exemplo 1: Para sacar a quantia de 256 reais, o programa fornece duas notas de 100, uma nota de 50, uma nota de 5 e uma nota de 1;\n",
        "\n",
        "2.   Exemplo 2: Para sacar a quantia de 399 reais, o programa fornece três notas de 100, uma nota de 50, quatro notas de 10, uma nota de 5 e quatro notas de 1.\n",
        "\n",
        "\n"
      ]
    },
    {
      "cell_type": "code",
      "metadata": {
        "colab": {
          "base_uri": "https://localhost:8080/"
        },
        "id": "GVNwm9lMOa1C",
        "outputId": "60a6bc8f-e5da-43b7-b33c-61984a055e31"
      },
      "source": [
        "valor = int(input('Digite o valor para sacar [1-600]: '))\n",
        "\n",
        "if valor <=600 and valor >10:\n",
        "\n",
        "  cem = int(valor / 100)\n",
        "  valor = valor - (cem*100)\n",
        "\n",
        "  cin = int(valor / 50)\n",
        "  valor = valor - (cin*50)\n",
        "\n",
        "  dez = int(valor / 10)\n",
        "  valor = valor - (dez*10)\n",
        "\n",
        "  cinco = int(valor / 5)\n",
        "  valor = valor - (cinco*5)\n",
        "\n",
        "  um = int(valor / 1)\n",
        "  valor = valor - (um*1)\n",
        "\n",
        "  print('''\n",
        "  {} notas de 100 reais\n",
        "  {} notas de 50 reais\n",
        "  {} notas de 10 reais\n",
        "  {} notas de 5 reais\n",
        "  {} notas de 1 reais\n",
        "  '''.format(cem,cin,dez,cinco,um))\n",
        "else:\n",
        "  print('Valor negado!')"
      ],
      "execution_count": 1,
      "outputs": [
        {
          "output_type": "stream",
          "text": [
            "Digite o valor para sacar [1-600]: 9\n",
            "Valor negado!\n"
          ],
          "name": "stdout"
        }
      ]
    }
  ]
}