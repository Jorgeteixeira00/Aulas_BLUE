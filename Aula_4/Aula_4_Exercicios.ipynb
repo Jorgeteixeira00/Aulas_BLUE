{
  "nbformat": 4,
  "nbformat_minor": 0,
  "metadata": {
    "colab": {
      "name": "Aula 4 - Exercicios",
      "provenance": [],
      "collapsed_sections": []
    },
    "kernelspec": {
      "name": "python3",
      "display_name": "Python 3"
    },
    "language_info": {
      "name": "python"
    }
  },
  "cells": [
    {
      "cell_type": "markdown",
      "metadata": {
        "id": "2lXh-rRe7ukg"
      },
      "source": [
        "Exercicio 1"
      ]
    },
    {
      "cell_type": "markdown",
      "metadata": {
        "id": "KsJYecwY7qtg"
      },
      "source": [
        "Elabore um programa que imprima na tela a seguinte frase Olá Mundo! Esse é o meu primeiro programa"
      ]
    },
    {
      "cell_type": "code",
      "metadata": {
        "id": "gu5Xyu5M7p8g"
      },
      "source": [
        "print('Olá mundo!')"
      ],
      "execution_count": null,
      "outputs": []
    },
    {
      "cell_type": "markdown",
      "metadata": {
        "id": "75naTJU267HV"
      },
      "source": [
        "**Exercicio 2**"
      ]
    },
    {
      "cell_type": "markdown",
      "metadata": {
        "id": "1W_z_Vy760uJ"
      },
      "source": [
        "Elabore um programa que escreve seu nome completo na primeira linha, seu endereço na segunda e o CEP e telefone na terceira."
      ]
    },
    {
      "cell_type": "code",
      "metadata": {
        "colab": {
          "base_uri": "https://localhost:8080/"
        },
        "id": "gVpgN7Gi7A_d",
        "outputId": "24ac3fdc-272d-446b-9e29-b041fd25754d"
      },
      "source": [
        "print('''\n",
        "Nome:Jorge\n",
        "Rua:ABC\n",
        "CEP:93832-000\n",
        "Telefone:\n",
        "''')"
      ],
      "execution_count": null,
      "outputs": [
        {
          "output_type": "stream",
          "text": [
            "\n",
            "Nome:Jorge\n",
            "Rua:ABC\n",
            "CEP:93832-000\n",
            "Telefone:\n",
            "\n"
          ],
          "name": "stdout"
        }
      ]
    },
    {
      "cell_type": "code",
      "metadata": {
        "id": "ZWDoqNEp6tav"
      },
      "source": [
        ""
      ],
      "execution_count": null,
      "outputs": []
    },
    {
      "cell_type": "markdown",
      "metadata": {
        "id": "xjsrimQO2QIT"
      },
      "source": [
        " **Exercicio 3**"
      ]
    },
    {
      "cell_type": "markdown",
      "metadata": {
        "id": "6v-N4diq2lEN"
      },
      "source": [
        "Elabore um programa que recebe o nome de uma pessoa do terminal e mostra a seguinte mensagem: Olá {nome}! Seja bem vindo ao fantástico mundo da programação"
      ]
    },
    {
      "cell_type": "code",
      "metadata": {
        "colab": {
          "base_uri": "https://localhost:8080/"
        },
        "id": "9Jtovbd22mY_",
        "outputId": "73f0f948-2374-40ff-bb47-99fc51feca16"
      },
      "source": [
        "nome = input('Qual o seu nome?')\n",
        "print('Olá {}! Seja bem vindo ao fantástico mundo da programação!'.format(nome))"
      ],
      "execution_count": null,
      "outputs": [
        {
          "output_type": "stream",
          "text": [
            "Qual o seu nome?Jorge\n",
            "Olá Jorge! Seja bem vindo ap fantástico mundo da programação!\n"
          ],
          "name": "stdout"
        }
      ]
    },
    {
      "cell_type": "markdown",
      "metadata": {
        "id": "8k9zicUg34MX"
      },
      "source": [
        "**Exercicio 4**"
      ]
    },
    {
      "cell_type": "markdown",
      "metadata": {
        "id": "kUb7JJs837CI"
      },
      "source": [
        "Elabore um programa que recebe dois valores inteiros e mostra a soma desses valores"
      ]
    },
    {
      "cell_type": "code",
      "metadata": {
        "colab": {
          "base_uri": "https://localhost:8080/"
        },
        "id": "AN86QX_T3_oP",
        "outputId": "8116a678-a21a-4b1a-f38c-201eebc2ea3c"
      },
      "source": [
        "n1 = int(input('Digite o primeiro número:'))\n",
        "n2 = int(input('Digite o segundo número:'))\n",
        "soma = n1+n2\n",
        "print('''\n",
        "Primeiro valor:{}\n",
        "Segundo valor:{}\n",
        "Soma:{}\n",
        "'''.format(n1,n2,soma))"
      ],
      "execution_count": null,
      "outputs": [
        {
          "output_type": "stream",
          "text": [
            "Digite o primeiro número:5\n",
            "Digite o segundo número:8\n",
            "\n",
            "Primeiro valor:5\n",
            "Segundo valor:8\n",
            "Soma:13\n",
            "\n"
          ],
          "name": "stdout"
        }
      ]
    },
    {
      "cell_type": "markdown",
      "metadata": {
        "id": "UqfywYV84yqv"
      },
      "source": [
        "**Exercicio 5**"
      ]
    },
    {
      "cell_type": "markdown",
      "metadata": {
        "id": "tsuXScnG44Qh"
      },
      "source": [
        "Elabore um programa que recebe dois valores inteiros e mostra se o primeiro valor é maior ou igual ao segundo valor"
      ]
    },
    {
      "cell_type": "code",
      "metadata": {
        "colab": {
          "base_uri": "https://localhost:8080/"
        },
        "id": "hPCVDFsv49wR",
        "outputId": "f47be6da-689a-4087-e1cd-13836f9321cc"
      },
      "source": [
        "n1 = int(input('Digite o primeiro valor:'))\n",
        "n2 = int(input('Digite o segundo valor:'))\n",
        "resultado = n1>=n2\n",
        "print('''\n",
        "Primeiro valor = {}\n",
        "Segundo valor = {}\n",
        "resultado = {}\n",
        "'''.format(n1,n2,resultado))"
      ],
      "execution_count": null,
      "outputs": [
        {
          "output_type": "stream",
          "text": [
            "Digite o primeiro valor:9\n",
            "Digite o segundo valor:3\n",
            "\n",
            "Primeiro valor = 9\n",
            "Segundo valor = 3\n",
            "resultado = True\n",
            "\n"
          ],
          "name": "stdout"
        }
      ]
    },
    {
      "cell_type": "markdown",
      "metadata": {
        "id": "FysjnYEq78jm"
      },
      "source": [
        "Exercicio 6"
      ]
    },
    {
      "cell_type": "markdown",
      "metadata": {
        "id": "unl6BRrp7-z0"
      },
      "source": [
        "Elabore um programa que recebe o seu nome, endereço e hobby e mostra cada uma das informações da seguinte forma:\n",
        "\n",
        "Nome -> Letra maiúscula\n",
        "Endereço -> Letra minúscula\n",
        "Hobby -> Primeira letra maiúscula"
      ]
    },
    {
      "cell_type": "code",
      "metadata": {
        "colab": {
          "base_uri": "https://localhost:8080/"
        },
        "id": "8738KTec8DKR",
        "outputId": "919ee28f-43ea-4526-9b13-37a902bcba1b"
      },
      "source": [
        "nome = input('Digite o seu nome:').upper()\n",
        "endereço = input('Digite seu endereço:').lower()\n",
        "hobby = input('Digite seu hobby:').capitalize()\n",
        "print('''\n",
        "Nome:{}\n",
        "Endereço:{}\n",
        "Hobby:{}\n",
        "'''.format(nome,endereço,hobby))"
      ],
      "execution_count": null,
      "outputs": [
        {
          "output_type": "stream",
          "text": [
            "Digite o seu nome:jorge\n",
            "Digite seu endereço:ABC\n",
            "Digite seu hobby:hobby\n",
            "\n",
            "Nome:JORGE\n",
            "Endereço:abc\n",
            "Hobby:Hobby\n",
            "\n"
          ],
          "name": "stdout"
        }
      ]
    },
    {
      "cell_type": "markdown",
      "metadata": {
        "id": "WvW1n-lQ9G4j"
      },
      "source": [
        "## Mini Projeto 01 - Conversor de Moeda"
      ]
    },
    {
      "cell_type": "markdown",
      "metadata": {
        "id": "9fBFikoD9jzf"
      },
      "source": [
        "Mini Projeto 01 - Conversor de Moeda"
      ]
    },
    {
      "cell_type": "markdown",
      "metadata": {
        "id": "cDXXWNP29rPH"
      },
      "source": [
        "Parte 1"
      ]
    },
    {
      "cell_type": "markdown",
      "metadata": {
        "id": "SBjZEV4L9tco"
      },
      "source": [
        "Faça o conversor de moeda receber o valor em real e mostrar o valor convertido para dólar no formato $ XXXX.XX"
      ]
    },
    {
      "cell_type": "markdown",
      "metadata": {
        "id": "JSMRjsOo9wCr"
      },
      "source": [
        "Exemplo:"
      ]
    },
    {
      "cell_type": "markdown",
      "metadata": {
        "id": "bWjV0LzW-Akt"
      },
      "source": [
        "Valor em R$ = 1000\n",
        "Valor em $ = $ 173.91"
      ]
    },
    {
      "cell_type": "markdown",
      "metadata": {
        "id": "0nB8U0WF-Clt"
      },
      "source": [
        "# Parte **2**"
      ]
    },
    {
      "cell_type": "markdown",
      "metadata": {
        "id": "UczWCT6E-Jza"
      },
      "source": [
        "Altere o conversor de moedas para receber o valor em dólar, converter para real e mostrar o resultado no formato R$ XXXX.XX"
      ]
    },
    {
      "cell_type": "markdown",
      "metadata": {
        "id": "mK3g6-KH-MZ9"
      },
      "source": [
        "Exemplo:"
      ]
    },
    {
      "cell_type": "markdown",
      "metadata": {
        "id": "32w8ZLdH-PO1"
      },
      "source": [
        "Valor em $ = 1000\n",
        "Valor em R$ = R$ 5750.00"
      ]
    },
    {
      "cell_type": "code",
      "metadata": {
        "colab": {
          "base_uri": "https://localhost:8080/"
        },
        "id": "ASB-mrgX-T0z",
        "outputId": "e566d281-f79d-4375-ade8-858407822938"
      },
      "source": [
        "real = float(input('Digite o valor em real R$:'))\n",
        "dolar = real*0.19\n",
        "print('R${} reais convertido para Dolar é: US${:.2f}'.format(real,dolar))"
      ],
      "execution_count": null,
      "outputs": [
        {
          "output_type": "stream",
          "text": [
            "Digite o valor em real R$:10\n",
            "R$10.0 reais convertido para Dolar é: US$1.90\n"
          ],
          "name": "stdout"
        }
      ]
    },
    {
      "cell_type": "code",
      "metadata": {
        "colab": {
          "base_uri": "https://localhost:8080/"
        },
        "id": "oT1X3pTuAERf",
        "outputId": "afbdf13c-6577-4ba3-9d3f-181e80aada3a"
      },
      "source": [
        "dolar = float(input('Digite o valor em dólar US$:'))\n",
        "real = dolar*5.28\n",
        "print('US${} dólares convertidos para reais é: US${:.2f}'.format(dolar,real))"
      ],
      "execution_count": null,
      "outputs": [
        {
          "output_type": "stream",
          "text": [
            "Digite o valor em dólar US$:10\n",
            "US$10.0 dólares convertidos para reais é: US$52.80\n"
          ],
          "name": "stdout"
        }
      ]
    },
    {
      "cell_type": "markdown",
      "metadata": {
        "id": "0NmAiF2DV_ju"
      },
      "source": [
        "## Mini Projeto 02 - Calculadora de aumento de aluguel\n",
        "Vamos construir um programa que irá calcular o aumento anual do seu aluguel em duas partes:\n",
        "\n",
        "### Parte 1\n",
        "A sua calculadora vai receber o `valor do aluguel` e calcular o aumento baseado no `IGPM de 31%`. A calculadora deve apresentar o aluguel reajustado no formato `R$ XXXX.XX`\n",
        "\n",
        "**Exemplo:**\n",
        "```\n",
        "Valor do aluguel = 1000\n",
        "Valor do aluguel reajustado = R$ 1310,00\n",
        "```\n",
        "\n",
        "### Parte 2\n",
        "Agora, altere sua calculadora para receber além do `valor do aluguel`, o percentual do reajuste no formato `XX%`.  \n",
        "\n",
        "**Dica:** Descubra uma forma de transformar o percentual recebido em um número para efetuar o cálculo.\n",
        "\n",
        "**Exemplo:**\n",
        "```\n",
        "Valor do aluguel = 1000\n",
        "Percentual do reajuste = 31%\n",
        "Valor do aluguel reajustado = R% 1310,00\n",
        "```"
      ]
    },
    {
      "cell_type": "code",
      "metadata": {
        "id": "0eHzSCyaGkYJ",
        "colab": {
          "base_uri": "https://localhost:8080/"
        },
        "outputId": "f2d803f2-6da6-4d6b-9db3-7b3028ac58ca"
      },
      "source": [
        "valor_aluguel = float(input('Digite o valor do alguel R$:'))\n",
        "aluguel_reajustado = valor_aluguel * 31 / 100\n",
        "valor_reajustado = valor_aluguel + aluguel_reajustado\n",
        "print('''\n",
        "Valor do aluguel R$:{:.2f} reais\n",
        "Valor do aluguel reajustado R$:{:.2f} reais\n",
        "\n",
        "'''.format(valor_aluguel,valor_reajustado))"
      ],
      "execution_count": null,
      "outputs": [
        {
          "output_type": "stream",
          "text": [
            "Digite o valor do alguel R$:1000\n",
            "\n",
            "Valor do aluguel R$:1000.00 reais\n",
            "Valor do aluguel reajustado R$:1310.00 reais\n",
            "\n",
            "\n"
          ],
          "name": "stdout"
        }
      ]
    },
    {
      "cell_type": "code",
      "metadata": {
        "colab": {
          "base_uri": "https://localhost:8080/"
        },
        "id": "lvF-X5b4EDM3",
        "outputId": "2077ad3e-52fd-43a0-b1d4-76abe8a2f9cf"
      },
      "source": [
        "valor_aluguel = float(input('Digite o valor do aluguel R$:'))\n",
        "percentual_reajuste = int(input('Digite o percentual do aluguel %:'))\n",
        "valor_reajustado = valor_aluguel * percentual_reajuste / 100\n",
        "valor_total = valor_aluguel + valor_reajustado\n",
        "print('''\n",
        "Valor do aluguel R$:{:.2f} reais\n",
        "Percentual do aluguel :{}%\n",
        "Valor do aluguel reajustado R$:{:.2f} reais\n",
        "'''.format(valor_aluguel,percentual_reajuste,valor_total))"
      ],
      "execution_count": null,
      "outputs": [
        {
          "output_type": "stream",
          "text": [
            "Digite o valor do aluguel R$:1000\n",
            "Digite o percentual do aluguel %:31\n",
            "\n",
            "Valor do aluguel R$:1000.00 reais\n",
            "Percentual do aluguel :31%\n",
            "Valor do aluguel reajustado R$:1310.00 reais\n",
            "\n"
          ],
          "name": "stdout"
        }
      ]
    },
    {
      "cell_type": "markdown",
      "metadata": {
        "id": "xN88sUuMOG46"
      },
      "source": [
        "## Mini Projeto 03 - Calculadora de dano\n",
        "Vamos implementar a calculadora de dano de RPG!!\n",
        "\n",
        "### Parte 1\n",
        "O programa vai receber a `vida e um monstro (entre 10 e 50)` e o `valor do ataque do jogador por turno (entre 5 e 10)`\n",
        "\n",
        "Baseado nos valores, exiba a quantidade de turnos que o jogador irá demorar para conseguir derrotar o monstro.\n",
        "\n",
        "**Exemplo:**\n",
        "```\n",
        "Vida de um monstro (entre 10 e 50): 26\n",
        "Valor do ataque do jogador por turno (entre 5 e 10): 5\n",
        "Resultado: O jogador irá precisar de 6 turnos para derrotar o monstro.\n",
        "```\n",
        "\n",
        "### Parte 2\n",
        "Altere o programa para ao invés de receber a vida do monstro, gerar aleatoriamente um valor entre 10 e 50."
      ]
    },
    {
      "cell_type": "code",
      "metadata": {
        "colab": {
          "base_uri": "https://localhost:8080/"
        },
        "id": "LdVRgR_nFufy",
        "outputId": "7b37b2bf-9cf5-4595-e9ab-8322b0d45822"
      },
      "source": [
        "from math import ceil\n",
        "vida_monstro = int(input('Digite a vida do monstro entre 10 e 50:'))\n",
        "valor_ataque = int(input('Digite o valor do ataque por turno entre 5 e 10:'))\n",
        "\n",
        "turnos = ceil(vida_monstro/valor_ataque)\n",
        "print('O jogador irá precisar de {:.0f} turnos para derrotar o monstro'.format(turnos))"
      ],
      "execution_count": null,
      "outputs": [
        {
          "output_type": "stream",
          "text": [
            "Digite a vida do monstro entre 10 e 50:26\n",
            "Digite o valor do ataque por turno entre 5 e 10:5\n",
            "O jogador irá precisar de 6 turnos para derrotar o monstro\n"
          ],
          "name": "stdout"
        }
      ]
    },
    {
      "cell_type": "code",
      "metadata": {
        "colab": {
          "base_uri": "https://localhost:8080/"
        },
        "id": "iZT76iM9I-sE",
        "outputId": "da5e56c4-8ecc-48a5-df4c-3798b3fb939d"
      },
      "source": [
        "from math import ceil\n",
        "from random import randint\n",
        "vida_monstro = randint(10,50)\n",
        "valor_ataque = int(input('Digite o valor do ataque por turno entre 5 e 10:'))\n",
        "turnos = ceil(vida_monstro/valor_ataque)\n",
        "print('''\n",
        "Vida do monstro:{}\n",
        "Valor do ataque:{}\n",
        "Turnos necessarios para derrotar o monstro:{:.0f}\n",
        "'''.format(vida_monstro,valor_ataque,turnos))"
      ],
      "execution_count": null,
      "outputs": [
        {
          "output_type": "stream",
          "text": [
            "Digite o valor do ataque por turno entre 5 e 10:8\n",
            "\n",
            "Vida do monstro:45\n",
            "Valor do ataque:8\n",
            "Turnos necessarios para derrotar o monstro:6\n",
            "\n"
          ],
          "name": "stdout"
        }
      ]
    },
    {
      "cell_type": "code",
      "metadata": {
        "id": "jFoG53EZXR27"
      },
      "source": [
        ""
      ],
      "execution_count": null,
      "outputs": []
    }
  ]
}